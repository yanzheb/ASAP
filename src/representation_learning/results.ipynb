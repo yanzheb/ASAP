{
 "cells": [
  {
   "cell_type": "code",
   "execution_count": 1,
   "metadata": {},
   "outputs": [],
   "source": [
    "import sys\n",
    "from pathlib import Path\n",
    "sys.path.append(str(Path.cwd().parent.parent))"
   ]
  },
  {
   "cell_type": "code",
   "execution_count": 2,
   "metadata": {},
   "outputs": [
    {
     "name": "stderr",
     "output_type": "stream",
     "text": [
      "/Users/yanzheb/Development/project-xrl/.venv/lib/python3.10/site-packages/tqdm/auto.py:21: TqdmWarning: IProgress not found. Please update jupyter and ipywidgets. See https://ipywidgets.readthedocs.io/en/stable/user_install.html\n",
      "  from .autonotebook import tqdm as notebook_tqdm\n"
     ]
    }
   ],
   "source": [
    "from baseline_clustering import main\n",
    "import torch\n",
    "from collections import defaultdict\n",
    "import numpy as np\n",
    "import copy\n",
    "from sklearn.manifold import TSNE\n",
    "import pandas as pd\n",
    "import seaborn as sns\n",
    "import matplotlib.pyplot as plt\n",
    "import torch.nn.functional as F\n",
    "import gymnasium as gym\n",
    "import graphviz\n",
    "import itertools"
   ]
  },
  {
   "cell_type": "markdown",
   "metadata": {},
   "source": [
    "## Change these if you want"
   ]
  },
  {
   "cell_type": "code",
   "execution_count": 3,
   "metadata": {},
   "outputs": [],
   "source": [
    "env_id = \"FlappyBird-v0\"\n",
    "type_ = \"activation\""
   ]
  },
  {
   "cell_type": "markdown",
   "metadata": {},
   "source": [
    "## Results shown in the tables"
   ]
  },
  {
   "cell_type": "code",
   "execution_count": 4,
   "metadata": {},
   "outputs": [
    {
     "name": "stderr",
     "output_type": "stream",
     "text": [
      "Seed set to 0\n",
      "Seed set to 0\n"
     ]
    },
    {
     "name": "stdout",
     "output_type": "stream",
     "text": [
      "# --- FlappyBird-v0 ---\n",
      "# --- model ---\n"
     ]
    },
    {
     "name": "stderr",
     "output_type": "stream",
     "text": [
      "Seed set to 0\n"
     ]
    },
    {
     "name": "stdout",
     "output_type": "stream",
     "text": [
      "# Silhouette: 0.1025708019733429\n"
     ]
    },
    {
     "name": "stderr",
     "output_type": "stream",
     "text": [
      "Seed set to 0\n"
     ]
    },
    {
     "name": "stdout",
     "output_type": "stream",
     "text": [
      "# Deterministic Action Return - mean: 457.71299854278567, std: 121.60171685293955\n"
     ]
    }
   ],
   "source": [
    "%run baseline_clustering.py --env-id $env_id --type $type_\n",
    "args, fabric, c_instances, envs, (train_b, val_b, test_b) = main(ARGS)\n",
    "model = c_instances[\"model\"]"
   ]
  },
  {
   "cell_type": "markdown",
   "metadata": {},
   "source": [
    "## t-SNE results"
   ]
  },
  {
   "cell_type": "code",
   "execution_count": null,
   "metadata": {},
   "outputs": [],
   "source": [
    "def get_visual_obs(fabric, envs, model, seed, n_episodes: int = 5):\n",
    "    model = copy.deepcopy(model)\n",
    "    model.train(False)\n",
    "    envs = copy.deepcopy(envs)\n",
    "    fabric.seed_everything(seed)\n",
    "\n",
    "    done = False\n",
    "    episode_count = 0\n",
    "    info = defaultdict(list)\n",
    "    obs = torch.tensor(envs.reset(seed=seed)[\n",
    "                       0], device=fabric.device, dtype=torch.float32)\n",
    "\n",
    "    while episode_count < n_episodes:\n",
    "        with torch.no_grad():\n",
    "            _, output, _, _, value = model.agent.get_action_and_value(obs)\n",
    "            _, _, dist, importance = model(obs)\n",
    "            c_soft = dist.probs\n",
    "        if isinstance(envs.single_action_space, gym.spaces.Discrete):\n",
    "            action = torch.argmax(output, dim=1)\n",
    "        else:\n",
    "            action = output\n",
    "        info[\"importance\"].append(importance)\n",
    "        cluster_sim, cluster_idx = torch.max(c_soft, dim=1)\n",
    "\n",
    "        obs = obs.cpu().numpy()\n",
    "        info[\"obs\"].append(envs.envs[0].get_unnormalized_obs(obs))\n",
    "        info[\"obs_norm\"].append(obs)\n",
    "        info[\"visual_obs\"].append(\n",
    "            envs.envs[0].unwrapped.render()[np.newaxis, ...])\n",
    "\n",
    "        next_obs, _, terminated, truncated, _ = envs.step(\n",
    "            action.numpy(force=True))\n",
    "        done = np.logical_or(terminated, truncated)\n",
    "        obs = torch.tensor(next_obs, device=fabric.device, dtype=torch.float32)\n",
    "\n",
    "        info[\"cluster\"].append(cluster_idx.cpu().numpy())\n",
    "        info[\"output\"].append(output.cpu().numpy())\n",
    "        info[\"value\"].append(value.squeeze(1).cpu().numpy())\n",
    "\n",
    "        info[\"cluster_sim\"].append(cluster_sim.cpu().numpy())\n",
    "\n",
    "        if done.item():\n",
    "            episode_count += 1\n",
    "            # obs = torch.tensor(envs.reset(seed=episode_count)[0], device=fabric.device, dtype=torch.float32)\n",
    "\n",
    "    info = {key: np.concatenate(value, axis=0) for key, value in info.items()}\n",
    "\n",
    "    # Shuffle the items\n",
    "    # p = np.random.permutation(len(info[\"obs\"]))\n",
    "    # info = {key: value[p] for key, value in info.items()}\n",
    "\n",
    "    return info"
   ]
  },
  {
   "cell_type": "code",
   "execution_count": null,
   "metadata": {},
   "outputs": [],
   "source": [
    "info = get_visual_obs(fabric, envs, model, 0, 10)"
   ]
  },
  {
   "cell_type": "code",
   "execution_count": null,
   "metadata": {},
   "outputs": [],
   "source": [
    "if env_id == \"MountainCar-v0\":\n",
    "    X_embedded = info[\"obs\"]\n",
    "else:\n",
    "    X_embedded = TSNE(n_components=2, random_state=0).fit_transform(\n",
    "        info[\"obs_norm\"])\n",
    "\n",
    "obs = pd.DataFrame(np.concatenate((X_embedded, info[\"cluster\"][..., np.newaxis], np.argmax(info[\"output\"], axis=1, keepdims=True)), axis=1),\n",
    "                   columns=(\"Dim 1\", \"Dim 2\", \"Hyperstate\", \"Action\"))\n",
    "obs[\"Hyperstate\"] = obs[\"Hyperstate\"].astype(int)\n",
    "\n",
    "\n",
    "fig, ax = plt.subplots(constrained_layout=True)\n",
    "sns.set_theme()\n",
    "sns.set(font_scale=1)\n",
    "sns.scatterplot(obs.sample(n=1_500, random_state=0), x=\"Dim 1\",\n",
    "                y=\"Dim 2\", hue=\"Hyperstate\", palette=\"Paired\", style=None if env_id == \"Swimmer-v4\" else \"Action\", ax=ax)"
   ]
  },
  {
   "cell_type": "markdown",
   "metadata": {},
   "source": [
    "## Markov chain visualization"
   ]
  },
  {
   "cell_type": "code",
   "execution_count": null,
   "metadata": {},
   "outputs": [],
   "source": [
    "def evaluate_model(local_envs, model, n_episodes: int, mode: str, n_clusters: int, seed: int, device: torch.device):\n",
    "    # cluster transition matrix, row = from, col = to\n",
    "    cluster_transition_m = torch.zeros((n_clusters, n_clusters), device=device)\n",
    "    # cluster transition\n",
    "    cluster_transition = [[]]\n",
    "    # episode info\n",
    "    ep_info = defaultdict(list)\n",
    "\n",
    "    prev_cluster = None\n",
    "    current_ep = 0\n",
    "\n",
    "    # prepare run\n",
    "    model.train(False)\n",
    "    model = copy.deepcopy(model)\n",
    "    fabric.seed_everything(seed)\n",
    "    local_envs = copy.deepcopy(local_envs)\n",
    "    obs = local_envs.reset(seed=seed)[0]\n",
    "\n",
    "    while current_ep < n_episodes:\n",
    "        obs = torch.tensor(obs, device=device, dtype=torch.float)\n",
    "        if mode == \"bottleneck\":\n",
    "            action, output, dist, _, = model(obs, False)\n",
    "        else:\n",
    "            action, output, _, _, _ = model.agent.get_action_and_value(obs)\n",
    "            if isinstance(local_envs.single_action_space, gym.spaces.Discrete):\n",
    "                action = torch.argmax(output, dim=1)\n",
    "            else:\n",
    "                action = output\n",
    "        action = action.numpy(force=True)\n",
    "        if isinstance(local_envs.single_action_space, gym.spaces.Discrete):\n",
    "            ep_info[\"action\"].append(\n",
    "                F.softmax(output, dim=1).numpy(force=True))\n",
    "        else:\n",
    "            ep_info[\"action\"].append(output.numpy(force=True))\n",
    "\n",
    "        next_obs, _, terminated, truncated, infos = local_envs.step(action)\n",
    "        obs = next_obs\n",
    "\n",
    "        if mode == \"bottleneck\":\n",
    "            cluster_transition[-1].append(dist.probs)\n",
    "\n",
    "            cluster = torch.argmax(dist.probs, dim=1)\n",
    "            if prev_cluster is not None:\n",
    "                cluster_transition_m[prev_cluster, cluster] += 1\n",
    "            prev_cluster = cluster\n",
    "\n",
    "            ep_info[\"cluster_y\"].append(cluster)\n",
    "\n",
    "        # Only print when at least 1 env is done\n",
    "        if \"final_info\" not in infos:\n",
    "            continue\n",
    "\n",
    "        for info in infos[\"final_info\"]:\n",
    "            # Skip the envs that are not done\n",
    "            if info is None:\n",
    "                continue\n",
    "            ep_info[\"ep_length\"].append(info[\"episode\"][\"l\"].item())\n",
    "            ep_info[\"ep_reward\"].append(info[\"episode\"][\"r\"].item())\n",
    "            current_ep += 1\n",
    "            # obs = envs.reset(seed=current_ep)[0]\n",
    "            if current_ep < n_episodes:\n",
    "                cluster_transition.append([])\n",
    "            prev_cluster = None\n",
    "\n",
    "    if mode == \"bottleneck\":\n",
    "        ep_info[\"cluster_y\"] = [\n",
    "            torch.cat(ep_info[\"cluster_y\"]).int().detach().cpu().numpy()]\n",
    "        cluster_transition = [torch.cat(ep, dim=0)\n",
    "                              for ep in cluster_transition]\n",
    "        ep_info[\"action\"] = [np.concatenate(ep_info[\"action\"], axis=0)]\n",
    "    return {\"cluster_transition_m\": cluster_transition_m,\n",
    "            \"cluster_transition\": cluster_transition} | ep_info"
   ]
  },
  {
   "cell_type": "code",
   "execution_count": null,
   "metadata": {},
   "outputs": [],
   "source": [
    "seed = 0\n",
    "n_episodes = 10\n",
    "bottleneck_info = evaluate_model(\n",
    "    envs, model, n_episodes, \"bottleneck\", model.n_clusters, args.seed, fabric.device)\n",
    "no_bottleneck_info = evaluate_model(\n",
    "    envs, model, n_episodes, \"none\", model.n_clusters, args.seed, fabric.device)"
   ]
  },
  {
   "cell_type": "code",
   "execution_count": null,
   "metadata": {},
   "outputs": [],
   "source": [
    "SUB = str.maketrans(\"0123456789\", \"₀₁₂₃₄₅₆₇₈₉\")\n",
    "dot = graphviz.Digraph(graph_attr={'rankdir': 'LR'}, engine=\"dot\")\n",
    "transition_matrix = bottleneck_info[\"cluster_transition_m\"]\n",
    "transition_matrix = transition_matrix / \\\n",
    "    (transition_matrix.sum(1, keepdim=True) + 1e-8)\n",
    "\n",
    "cluster = range(model.n_clusters)\n",
    "filter_threshold = 0.02 if env_id == \"FlappyBird-v0\" else 0.00\n",
    "fontsize = \"40\"\n",
    "\n",
    "for i in cluster:\n",
    "    dot.node(f\"H{i}\".translate(SUB), fontsize=fontsize)\n",
    "\n",
    "for i, j in itertools.product(cluster, cluster):\n",
    "    if transition_matrix[i, j] < filter_threshold or transition_matrix[i, j] == 0:\n",
    "        continue\n",
    "    dot.edge(f\"H{i}\".translate(SUB), f\"H{j}\".translate(SUB),\n",
    "             label=f\"{transition_matrix[i, j]:.2f}\", fontsize=fontsize)\n",
    "    # dot.edge(f\"H{i}\", f\"H{j}\", color=color)\n",
    "\n",
    "dot"
   ]
  },
  {
   "cell_type": "code",
   "execution_count": null,
   "metadata": {},
   "outputs": [],
   "source": []
  }
 ],
 "metadata": {
  "kernelspec": {
   "display_name": ".venv",
   "language": "python",
   "name": "python3"
  },
  "language_info": {
   "codemirror_mode": {
    "name": "ipython",
    "version": 3
   },
   "file_extension": ".py",
   "mimetype": "text/x-python",
   "name": "python",
   "nbconvert_exporter": "python",
   "pygments_lexer": "ipython3",
   "version": "3.10.14"
  }
 },
 "nbformat": 4,
 "nbformat_minor": 2
}
